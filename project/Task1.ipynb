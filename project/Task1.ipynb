{
 "cells": [
  {
   "cell_type": "code",
   "execution_count": 73,
   "metadata": {},
   "outputs": [],
   "source": [
    "import nltk, re\n",
    "import numpy as np"
   ]
  },
  {
   "cell_type": "code",
   "execution_count": 15,
   "metadata": {},
   "outputs": [],
   "source": [
    "f = open('sentences.txt')"
   ]
  },
  {
   "cell_type": "code",
   "execution_count": 16,
   "metadata": {},
   "outputs": [],
   "source": [
    "raw = f.read()"
   ]
  },
  {
   "cell_type": "code",
   "execution_count": 17,
   "metadata": {},
   "outputs": [],
   "source": [
    "f.close()"
   ]
  },
  {
   "cell_type": "code",
   "execution_count": 18,
   "metadata": {},
   "outputs": [],
   "source": [
    "raw = raw.lower()"
   ]
  },
  {
   "cell_type": "code",
   "execution_count": 24,
   "metadata": {},
   "outputs": [],
   "source": [
    "words = re.split('[^a-z]', raw)"
   ]
  },
  {
   "cell_type": "code",
   "execution_count": 51,
   "metadata": {},
   "outputs": [
    {
     "data": {
      "text/plain": [
       "254"
      ]
     },
     "execution_count": 51,
     "metadata": {},
     "output_type": "execute_result"
    }
   ],
   "source": [
    "c = [ word for word in words if word != '']\n",
    "d = { word:0 for word in words if word != ''}\n",
    "for word in c:\n",
    "    d[word]+=1\n",
    "len(d)"
   ]
  },
  {
   "cell_type": "code",
   "execution_count": 66,
   "metadata": {},
   "outputs": [],
   "source": [
    "rows = raw.split('\\r\\n')\n",
    "m = [ [0 for i in range(0,254)] for j in range(0,22) ]\n",
    "\n",
    "for row in rows:\n",
    "    r_words = re.split('[^a-z]', row)\n",
    "    c = [ word for word in r_words if word != '']\n",
    "    for word_l in c:\n",
    "        m[rows.index(row)][sorted(d).index(word_l)]+=1\n",
    "        "
   ]
  },
  {
   "cell_type": "code",
   "execution_count": 95,
   "metadata": {},
   "outputs": [
    {
     "name": "stdout",
     "output_type": "stream",
     "text": [
      "(0.7327387580875756, 6)\n",
      "(0.7770887149698589, 4)\n"
     ]
    }
   ],
   "source": [
    "closest = 0\n",
    "ind = 0\n",
    "for f in range(1,22):\n",
    "    cosine = 1 - np.dot(m[0],m[f])/(np.linalg.norm(m[0])*np.linalg.norm(m[f]))\n",
    "\n",
    "    if f == 1 or closest > cosine:\n",
    "        closest = cosine   \n",
    "        ind = f\n",
    "    \n",
    "print(closest,ind)\n",
    "    \n",
    "    \n",
    "closest_s = 0\n",
    "ind_s = 0\n",
    "for f in range(1,22):\n",
    "    if f == ind:\n",
    "        continue\n",
    "    cosine = 1 - np.dot(m[0],m[f])/(np.linalg.norm(m[0])*np.linalg.norm(m[f]))\n",
    "    \n",
    "    if f == 1 or closest_s > cosine:\n",
    "        closest_s = cosine   \n",
    "        ind_s = f\n",
    "\n",
    "print(closest_s,ind_s)\n",
    "        "
   ]
  },
  {
   "cell_type": "code",
   "execution_count": 100,
   "metadata": {},
   "outputs": [],
   "source": [
    "import scipy\n",
    "from scipy import spatial"
   ]
  },
  {
   "cell_type": "code",
   "execution_count": 103,
   "metadata": {},
   "outputs": [
    {
     "data": {
      "text/plain": [
       "0.0"
      ]
     },
     "execution_count": 103,
     "metadata": {},
     "output_type": "execute_result"
    }
   ],
   "source": [
    "spatial.distance.cosine(m[0],m[4]) - closest_s"
   ]
  },
  {
   "cell_type": "code",
   "execution_count": 110,
   "metadata": {},
   "outputs": [
    {
     "name": "stdout",
     "output_type": "stream",
     "text": [
      "in comparison to dogs, cats have not undergone major changes during the domestication process.\n",
      "in one, people deliberately tamed cats in a process of artificial selection, as they were useful predators of vermin.\n",
      "domestic cats are similar in size to the other members of the genus felis, typically weighing between 4 and 5 kg (8.8 and 11.0 lb).\n"
     ]
    }
   ],
   "source": [
    "print(rows[0])\n",
    "print(rows[4])\n",
    "print(rows[6])"
   ]
  },
  {
   "cell_type": "code",
   "execution_count": null,
   "metadata": {},
   "outputs": [],
   "source": []
  },
  {
   "cell_type": "code",
   "execution_count": null,
   "metadata": {},
   "outputs": [],
   "source": []
  }
 ],
 "metadata": {
  "kernelspec": {
   "display_name": "Python 2",
   "language": "python",
   "name": "python2"
  },
  "language_info": {
   "codemirror_mode": {
    "name": "ipython",
    "version": 2
   },
   "file_extension": ".py",
   "mimetype": "text/x-python",
   "name": "python",
   "nbconvert_exporter": "python",
   "pygments_lexer": "ipython2",
   "version": "2.7.15rc1"
  }
 },
 "nbformat": 4,
 "nbformat_minor": 2
}
